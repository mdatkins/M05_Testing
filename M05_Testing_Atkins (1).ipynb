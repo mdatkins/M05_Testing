{
 "cells": [
  {
   "cell_type": "code",
   "execution_count": 1,
   "id": "b91cf935",
   "metadata": {},
   "outputs": [],
   "source": [
    "assert sum([1, 2, 3]) == 6, \"Should be 6\""
   ]
  },
  {
   "cell_type": "code",
   "execution_count": 2,
   "id": "2ea4f49b",
   "metadata": {},
   "outputs": [
    {
     "ename": "AssertionError",
     "evalue": "Should be 6",
     "output_type": "error",
     "traceback": [
      "\u001b[1;31m---------------------------------------------------------------------------\u001b[0m",
      "\u001b[1;31mAssertionError\u001b[0m                            Traceback (most recent call last)",
      "Cell \u001b[1;32mIn[2], line 1\u001b[0m\n\u001b[1;32m----> 1\u001b[0m \u001b[38;5;28;01massert\u001b[39;00m \u001b[38;5;28msum\u001b[39m([\u001b[38;5;241m1\u001b[39m, \u001b[38;5;241m2\u001b[39m, \u001b[38;5;241m3\u001b[39m]) \u001b[38;5;241m==\u001b[39m \u001b[38;5;241m7\u001b[39m, \u001b[38;5;124m\"\u001b[39m\u001b[38;5;124mShould be 6\u001b[39m\u001b[38;5;124m\"\u001b[39m\n",
      "\u001b[1;31mAssertionError\u001b[0m: Should be 6"
     ]
    }
   ],
   "source": [
    "assert sum([1, 2, 3]) == 7, \"Should be 6\""
   ]
  },
  {
   "cell_type": "markdown",
   "id": "eb5251a9",
   "metadata": {},
   "source": [
    " *Describe the test results in your own words.  What do the test results mean?\n",
    " \n",
    " The test matched the expected value to the calculated value, when the expected value was correct.\n",
    " The marvelous built-in \"assert\" function handles the comparison and the reporting.\n",
    " \n",
    " I had a problem getting the test program (test.py) to import the package I wrote.  The code from the website did not work in Windows 11 nor VsCode to import the custom local package."
   ]
  },
  {
   "cell_type": "code",
   "execution_count": null,
   "id": "a42e5668",
   "metadata": {},
   "outputs": [],
   "source": []
  }
 ],
 "metadata": {
  "kernelspec": {
   "display_name": "Python 3 (ipykernel)",
   "language": "python",
   "name": "python3"
  },
  "language_info": {
   "codemirror_mode": {
    "name": "ipython",
    "version": 3
   },
   "file_extension": ".py",
   "mimetype": "text/x-python",
   "name": "python",
   "nbconvert_exporter": "python",
   "pygments_lexer": "ipython3",
   "version": "3.11.5"
  }
 },
 "nbformat": 4,
 "nbformat_minor": 5
}
